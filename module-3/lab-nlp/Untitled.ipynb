{
 "cells": [
  {
   "cell_type": "code",
   "execution_count": 1,
   "metadata": {},
   "outputs": [],
   "source": [
    "from os import path\n",
    "from sys import argv\n",
    "import pandas as pd\n",
    "from sqlalchemy import create_engine"
   ]
  },
  {
   "cell_type": "code",
   "execution_count": 2,
   "metadata": {},
   "outputs": [],
   "source": [
    "\n",
    "def to_title(col):\n",
    "    return col.title().replace('_', '')\n",
    "def to_tables(df):\n",
    "    tables = []\n",
    "    for col in df:\n",
    "        if df[col].dtype not in ['int64', 'float64', 'bool', 'datetime64']:\n",
    "            col_ids = df[col].factorize(sort = True)[0]\n",
    "            tables.append(\n",
    "                pd.DataFrame({\n",
    "                    f'{col}_id': col_ids,\n",
    "                    col: df[col]\n",
    "                })\n",
    "                .drop_duplicates()\n",
    "                .sort_values(by = f'{col}_id')\n",
    "                .reset_index(drop = True)\n",
    "            )\n",
    "            del df[col]\n",
    "            df[f'{col}_id'] = col_ids\n",
    "    tables.insert(0, df)\n",
    "    return tables\n"
   ]
  },
  {
   "cell_type": "code",
   "execution_count": 3,
   "metadata": {},
   "outputs": [],
   "source": [
    "filenames = [path.splitext(file_)[0] for file_ in argv[1:] if path.splitext(file_)[1] == '.csv']\n",
    "for filename in filenames:\n",
    "    raw = pd.read_csv(f\"{filename}.csv\")\n",
    "    engine = create_engine(f'sqlite:///{filename}.db', echo = False)\n",
    "    for i, df in enumerate(to_tables(raw)):\n",
    "        df.to_sql(\n",
    "            to_title('Observation' if i == 0 else df.columns[1]), # table name\n",
    "            con = engine,\n",
    "            index = False\n",
    "        )"
   ]
  },
  {
   "cell_type": "code",
   "execution_count": null,
   "metadata": {},
   "outputs": [],
   "source": []
  }
 ],
 "metadata": {
  "kernelspec": {
   "display_name": "Python 3",
   "language": "python",
   "name": "python3"
  },
  "language_info": {
   "codemirror_mode": {
    "name": "ipython",
    "version": 3
   },
   "file_extension": ".py",
   "mimetype": "text/x-python",
   "name": "python",
   "nbconvert_exporter": "python",
   "pygments_lexer": "ipython3",
   "version": "3.7.3"
  }
 },
 "nbformat": 4,
 "nbformat_minor": 2
}
