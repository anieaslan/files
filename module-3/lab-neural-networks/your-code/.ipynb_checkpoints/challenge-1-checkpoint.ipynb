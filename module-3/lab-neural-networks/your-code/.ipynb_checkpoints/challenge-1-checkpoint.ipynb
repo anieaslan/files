{
 "cells": [
  {
   "cell_type": "markdown",
   "metadata": {},
   "source": [
    "# Challenge 1 - Tic Tac Toe\n",
    "\n",
    "In this lab you will perform deep learning analysis on a dataset of playing [Tic Tac Toe](https://en.wikipedia.org/wiki/Tic-tac-toe).\n",
    "\n",
    "There are 9 grids in Tic Tac Toe that are coded as the following picture shows:\n",
    "\n",
    "![Tic Tac Toe Grids](tttboard.jpg)\n",
    "\n",
    "In the first 9 columns of the dataset you can find which marks (`x` or `o`) exist in the grids. If there is no mark in a certain grid, it is labeled as `b`. The last column is `class` which tells you whether Player X (who always moves first in Tic Tac Toe) wins in this configuration. Note that when `class` has the value `False`, it means either Player O wins the game or it ends up as a draw."
   ]
  },
  {
   "cell_type": "markdown",
   "metadata": {},
   "source": [
    "Follow the steps suggested below to conduct a neural network analysis using Tensorflow and Keras. You will build a deep learning model to predict whether Player X wins the game or not.\n",
    "\n",
    "## Step 1: Data Engineering\n",
    "\n",
    "This dataset is almost in the ready-to-use state so you do not need to worry about missing values and so on. Still, some simple data engineering is needed.\n",
    "\n",
    "1. Read `tic-tac-toe.csv` into a dataframe.\n",
    "1. Inspect the dataset. Determine if the dataset is reliable by eyeballing the data.\n",
    "1. Convert the categorical values to numeric in all columns.\n",
    "1. Separate the inputs and output.\n",
    "1. Normalize the input data."
   ]
  },
  {
   "cell_type": "code",
   "execution_count": 53,
   "metadata": {},
   "outputs": [],
   "source": [
    "import numpy as np\n",
    "import tensorflow.keras as keras\n",
    "import tensorflow as tf\n",
    "import matplotlib.pyplot as plt\n",
    "import pandas as pd\n",
    "from sklearn.model_selection import train_test_split"
   ]
  },
  {
   "cell_type": "code",
   "execution_count": 3,
   "metadata": {},
   "outputs": [],
   "source": [
    "# your code here\n",
    "\n",
    "tictac = pd.read_csv('tic-tac-toe.csv')\n"
   ]
  },
  {
   "cell_type": "code",
   "execution_count": 25,
   "metadata": {},
   "outputs": [],
   "source": [
    "\n",
    "def change(df):\n",
    "    return (df.replace(\"x\",0).replace(\"o\",1).replace(\"b\",2))\n",
    "\n",
    "tictac_num = change(tictac)\n",
    "   "
   ]
  },
  {
   "cell_type": "code",
   "execution_count": 32,
   "metadata": {},
   "outputs": [],
   "source": [
    "tictac_num['class'] = tictac_num['class'].astype('int')"
   ]
  },
  {
   "cell_type": "code",
   "execution_count": 51,
   "metadata": {},
   "outputs": [],
   "source": [
    "X = tictac_num[[col for col in tictac_num if col != 'class']]\n",
    "\n",
    "y = tictac_num[['class']]"
   ]
  },
  {
   "cell_type": "code",
   "execution_count": 54,
   "metadata": {},
   "outputs": [],
   "source": [
    "X_train, X_test, y_train, y_test = train_test_split(X,y, test_size = 0.3, random_state = 0)"
   ]
  },
  {
   "cell_type": "code",
   "execution_count": 55,
   "metadata": {},
   "outputs": [],
   "source": [
    "train_X = tf.keras.utils.normalize(X_train, axis = 1)\n",
    "test_X = tf.keras.utils.normalize(X_test, axis = 1)"
   ]
  },
  {
   "cell_type": "code",
   "execution_count": 62,
   "metadata": {},
   "outputs": [],
   "source": [
    "# train_y = tf.keras.utils.normalize(y_train, axis = 1)\n",
    "# test_y = tf.keras.utils.normalize(y_test, axis = 1)"
   ]
  },
  {
   "cell_type": "markdown",
   "metadata": {},
   "source": [
    "## Step 2: Build Neural Network\n",
    "\n",
    "To build the neural network, you can refer to your own codes you wrote while following the [Deep Learning with Python, TensorFlow, and Keras tutorial](https://www.youtube.com/watch?v=wQ8BIBpya2k) in the lesson. It's pretty similar to what you will be doing in this lab.\n",
    "\n",
    "1. Split the training and test data.\n",
    "1. Create a `Sequential` model.\n",
    "1. Add several layers to your model. Make sure you use ReLU as the activation function for the middle layers. Use Softmax for the output layer because each output has a single lable and all the label probabilities add up to 1.\n",
    "1. Compile the model using `adam` as the optimizer and `sparse_categorical_crossentropy` as the loss function. For metrics, use `accuracy` for now.\n",
    "1. Fit the training data.\n",
    "1. Evaluate your neural network model with the test data.\n",
    "1. Save your model as `tic-tac-toe.model`."
   ]
  },
  {
   "cell_type": "code",
   "execution_count": 56,
   "metadata": {},
   "outputs": [],
   "source": [
    "# your code here\n",
    "model = tf.keras.models.Sequential()\n",
    "model.add(tf.keras.layers.Flatten())\n"
   ]
  },
  {
   "cell_type": "code",
   "execution_count": 57,
   "metadata": {},
   "outputs": [],
   "source": [
    "model.add(tf.keras.layers.Dense(\n",
    "    128, #number of nodes\n",
    "    activation = tf.nn.sigmoid #sigmoid function\n",
    "))"
   ]
  },
  {
   "cell_type": "code",
   "execution_count": 58,
   "metadata": {},
   "outputs": [],
   "source": [
    "model.add(tf.keras.layers.Dense(\n",
    "    128, #number of nodes\n",
    "    activation = tf.nn.sigmoid #sigmoid function\n",
    "))"
   ]
  },
  {
   "cell_type": "code",
   "execution_count": 59,
   "metadata": {},
   "outputs": [],
   "source": [
    "model.add(tf.keras.layers.Dense(\n",
    "    10, #number of nodes\n",
    "    activation = tf.nn.softmax #softmax function\n",
    "))"
   ]
  },
  {
   "cell_type": "code",
   "execution_count": 60,
   "metadata": {},
   "outputs": [],
   "source": [
    "model.compile(optimizer = 'adam',\n",
    "              loss = 'sparse_categorical_crossentropy',\n",
    "              metrics = ['accuracy']\n",
    "             )"
   ]
  },
  {
   "cell_type": "code",
   "execution_count": 63,
   "metadata": {},
   "outputs": [
    {
     "ename": "ValueError",
     "evalue": "Please provide as model inputs either a single array or a list of arrays. You passed: inputs=           TL        TM        TR        ML        MM        MR        BL  \\\n71   0.000000  0.000000  0.000000  0.603023  0.603023  0.301511  0.301511   \n49   0.000000  0.000000  0.000000  0.235702  0.471405  0.471405  0.471405   \n492  0.603023  0.000000  0.000000  0.301511  0.603023  0.000000  0.301511   \n364  0.301511  0.000000  0.603023  0.603023  0.301511  0.301511  0.000000   \n784  0.353553  0.000000  0.353553  0.707107  0.353553  0.000000  0.000000   \n116  0.000000  0.301511  0.000000  0.000000  0.301511  0.301511  0.000000   \n293  0.000000  0.471405  0.471405  0.471405  0.000000  0.235702  0.471405   \n76   0.000000  0.000000  0.000000  0.471405  0.471405  0.471405  0.235702   \n48   0.000000  0.000000  0.000000  0.235702  0.471405  0.471405  0.471405   \n325  0.301511  0.000000  0.301511  0.000000  0.000000  0.301511  0.603023   \n263  0.000000  0.603023  0.301511  0.301511  0.000000  0.603023  0.000000   \n775  0.353553  0.000000  0.353553  0.000000  0.353553  0.000000  0.000000   \n718  0.000000  0.516398  0.258199  0.000000  0.000000  0.258199  0.516398   \n443  0.235702  0.471405  0.000000  0.235702  0.471405  0.000000  0.471405   \n64   0.000000  0.000000  0.000000  0.603023  0.301511  0.603023  0.301511   \n765  0.258199  0.000000  0.000000  0.258199  0.516398  0.516398  0.258199   \n52   0.000000  0.000000  0.000000  0.603023  0.000000  0.301511  0.603023   \n568  0.471405  0.235702  0.235702  0.000000  0.000000  0.000000  0.471405   \n124  0.000000  0.500000  0.000000  0.500000  0.000000  0.500000  0.000000   \n789  0.353553  0.000000  0.707107  0.000000  0.353553  0.353553  0.000000   \n832  0.353553  0.353553  0.353553  0.353553  0.000000  0.000000  0.000000   \n737  0.000000  0.516398  0.516398  0.258199  0.258199  0.258199  0.000000   \n912  0.516398  0.000000  0.516398  0.258199  0.258199  0.258199  0.516398   \n608  0.603023  0.603023  0.301511  0.000000  0.000000  0.000000  0.000000   \n118  0.000000  0.301511  0.000000  0.000000  0.603023  0.301511  0.000000   \n12   0.000000  0.000000  0.000000  0.500000  0.000000  0.500000  0.000000   \n157  0.000000  0.301511  0.301511  0.000000  0.000000  0.603023  0.603023   \n127  0.000000  0.301511  0.000000  0.301511  0.000000  0.301511  0.603023   \n733  0.000000  0.516398  0.258199  0.516398  0.516398  0.258199  0.000000   \n235  0.000000  0.603023  0.000000  0.301511  0.603023  0.000000  0.301511   \n..        ...       ...       ...       ...       ...       ...       ...   \n72   0.000000  0.000000  0.000000  0.471405  0.471405  0.235702  0.235702   \n845  0.258199  0.258199  0.258199  0.516398  0.516398  0.000000  0.000000   \n537  0.603023  0.301511  0.000000  0.301511  0.000000  0.000000  0.603023   \n677  0.000000  0.258199  0.000000  0.000000  0.258199  0.516398  0.516398   \n849  0.353553  0.353553  0.707107  0.353553  0.000000  0.000000  0.353553   \n941  0.516398  0.516398  0.258199  0.516398  0.258199  0.000000  0.258199   \n174  0.000000  0.301511  0.301511  0.301511  0.000000  0.603023  0.000000   \n87   0.000000  0.000000  0.500000  0.500000  0.000000  0.000000  0.500000   \n551  0.603023  0.301511  0.000000  0.603023  0.000000  0.000000  0.301511   \n486  0.603023  0.000000  0.000000  0.301511  0.000000  0.301511  0.301511   \n705  0.000000  0.707107  0.000000  0.000000  0.000000  0.353553  0.353553   \n314  0.301511  0.000000  0.000000  0.603023  0.000000  0.603023  0.301511   \n396  0.301511  0.301511  0.000000  0.603023  0.000000  0.301511  0.000000   \n600  0.471405  0.471405  0.000000  0.235702  0.471405  0.000000  0.235702   \n472  0.301511  0.603023  0.603023  0.000000  0.000000  0.000000  0.000000   \n70   0.000000  0.000000  0.000000  0.603023  0.603023  0.301511  0.301511   \n599  0.471405  0.471405  0.000000  0.235702  0.235702  0.000000  0.471405   \n804  0.353553  0.353553  0.000000  0.000000  0.353553  0.000000  0.000000   \n754  0.353553  0.000000  0.000000  0.353553  0.353553  0.000000  0.000000   \n277  0.000000  0.603023  0.603023  0.000000  0.301511  0.000000  0.000000   \n723  0.000000  0.516398  0.258199  0.000000  0.258199  0.516398  0.258199   \n9    0.000000  0.000000  0.000000  0.000000  0.603023  0.301511  0.301511   \n359  0.301511  0.000000  0.603023  0.603023  0.000000  0.301511  0.000000   \n707  0.000000  0.516398  0.000000  0.000000  0.516398  0.516398  0.258199   \n763  0.258199  0.000000  0.000000  0.258199  0.516398  0.000000  0.258199   \n835  0.353553  0.353553  0.353553  0.707107  0.000000  0.000000  0.000000   \n192  0.000000  0.301511  0.603023  0.000000  0.000000  0.301511  0.301511   \n629  0.000000  0.000000  0.353553  0.000000  0.353553  0.000000  0.353553   \n559  0.603023  0.301511  0.000000  0.603023  0.301511  0.301511  0.000000   \n684  0.000000  0.353553  0.000000  0.707107  0.000000  0.000000  0.353553   \n\n           BM        BR  \n71   0.301511  0.000000  \n49   0.471405  0.235702  \n492  0.301511  0.000000  \n364  0.000000  0.000000  \n784  0.000000  0.353553  \n116  0.603023  0.603023  \n293  0.235702  0.000000  \n76   0.471405  0.235702  \n48   0.235702  0.471405  \n325  0.000000  0.603023  \n263  0.301511  0.000000  \n775  0.707107  0.353553  \n718  0.516398  0.258199  \n443  0.471405  0.000000  \n64   0.000000  0.301511  \n765  0.000000  0.516398  \n52   0.301511  0.301511  \n568  0.471405  0.471405  \n124  0.500000  0.000000  \n789  0.000000  0.353553  \n832  0.000000  0.707107  \n737  0.516398  0.000000  \n912  0.000000  0.000000  \n608  0.301511  0.301511  \n118  0.301511  0.603023  \n12   0.500000  0.500000  \n157  0.301511  0.000000  \n127  0.603023  0.000000  \n733  0.000000  0.258199  \n235  0.301511  0.000000  \n..        ...       ...  \n72   0.471405  0.471405  \n845  0.516398  0.000000  \n537  0.301511  0.000000  \n677  0.258199  0.516398  \n849  0.000000  0.000000  \n941  0.000000  0.000000  \n174  0.603023  0.000000  \n87   0.500000  0.000000  \n551  0.301511  0.000000  \n486  0.000000  0.603023  \n705  0.353553  0.353553  \n314  0.000000  0.301511  \n396  0.000000  0.603023  \n600  0.471405  0.000000  \n472  0.301511  0.301511  \n70   0.000000  0.301511  \n599  0.471405  0.000000  \n804  0.707107  0.353553  \n754  0.707107  0.353553  \n277  0.301511  0.301511  \n723  0.000000  0.516398  \n9    0.301511  0.603023  \n359  0.000000  0.301511  \n707  0.258199  0.258199  \n763  0.516398  0.516398  \n835  0.000000  0.353553  \n192  0.603023  0.000000  \n629  0.353553  0.707107  \n559  0.000000  0.000000  \n684  0.353553  0.353553  \n\n[670 rows x 9 columns]",
     "output_type": "error",
     "traceback": [
      "\u001b[0;31m---------------------------------------------------------------------------\u001b[0m",
      "\u001b[0;31mValueError\u001b[0m                                Traceback (most recent call last)",
      "\u001b[0;32m<ipython-input-63-99f69fe58a68>\u001b[0m in \u001b[0;36m<module>\u001b[0;34m\u001b[0m\n\u001b[0;32m----> 1\u001b[0;31m \u001b[0mmodel\u001b[0m\u001b[0;34m.\u001b[0m\u001b[0mfit\u001b[0m\u001b[0;34m(\u001b[0m\u001b[0mtrain_X\u001b[0m\u001b[0;34m,\u001b[0m \u001b[0mtrain_y\u001b[0m\u001b[0;34m,\u001b[0m \u001b[0mepochs\u001b[0m \u001b[0;34m=\u001b[0m \u001b[0;36m3\u001b[0m\u001b[0;34m)\u001b[0m\u001b[0;34m\u001b[0m\u001b[0;34m\u001b[0m\u001b[0m\n\u001b[0m",
      "\u001b[0;32m~/anaconda3/lib/python3.7/site-packages/tensorflow_core/python/keras/engine/training.py\u001b[0m in \u001b[0;36mfit\u001b[0;34m(self, x, y, batch_size, epochs, verbose, callbacks, validation_split, validation_data, shuffle, class_weight, sample_weight, initial_epoch, steps_per_epoch, validation_steps, validation_freq, max_queue_size, workers, use_multiprocessing, **kwargs)\u001b[0m\n\u001b[1;32m    725\u001b[0m         \u001b[0mmax_queue_size\u001b[0m\u001b[0;34m=\u001b[0m\u001b[0mmax_queue_size\u001b[0m\u001b[0;34m,\u001b[0m\u001b[0;34m\u001b[0m\u001b[0;34m\u001b[0m\u001b[0m\n\u001b[1;32m    726\u001b[0m         \u001b[0mworkers\u001b[0m\u001b[0;34m=\u001b[0m\u001b[0mworkers\u001b[0m\u001b[0;34m,\u001b[0m\u001b[0;34m\u001b[0m\u001b[0;34m\u001b[0m\u001b[0m\n\u001b[0;32m--> 727\u001b[0;31m         use_multiprocessing=use_multiprocessing)\n\u001b[0m\u001b[1;32m    728\u001b[0m \u001b[0;34m\u001b[0m\u001b[0m\n\u001b[1;32m    729\u001b[0m   def evaluate(self,\n",
      "\u001b[0;32m~/anaconda3/lib/python3.7/site-packages/tensorflow_core/python/keras/engine/training_arrays.py\u001b[0m in \u001b[0;36mfit\u001b[0;34m(self, model, x, y, batch_size, epochs, verbose, callbacks, validation_split, validation_data, shuffle, class_weight, sample_weight, initial_epoch, steps_per_epoch, validation_steps, validation_freq, **kwargs)\u001b[0m\n\u001b[1;32m    641\u001b[0m         \u001b[0msteps\u001b[0m\u001b[0;34m=\u001b[0m\u001b[0msteps_per_epoch\u001b[0m\u001b[0;34m,\u001b[0m\u001b[0;34m\u001b[0m\u001b[0;34m\u001b[0m\u001b[0m\n\u001b[1;32m    642\u001b[0m         \u001b[0mvalidation_split\u001b[0m\u001b[0;34m=\u001b[0m\u001b[0mvalidation_split\u001b[0m\u001b[0;34m,\u001b[0m\u001b[0;34m\u001b[0m\u001b[0;34m\u001b[0m\u001b[0m\n\u001b[0;32m--> 643\u001b[0;31m         shuffle=shuffle)\n\u001b[0m\u001b[1;32m    644\u001b[0m \u001b[0;34m\u001b[0m\u001b[0m\n\u001b[1;32m    645\u001b[0m     \u001b[0;32mif\u001b[0m \u001b[0mvalidation_data\u001b[0m\u001b[0;34m:\u001b[0m\u001b[0;34m\u001b[0m\u001b[0;34m\u001b[0m\u001b[0m\n",
      "\u001b[0;32m~/anaconda3/lib/python3.7/site-packages/tensorflow_core/python/keras/engine/training.py\u001b[0m in \u001b[0;36m_standardize_user_data\u001b[0;34m(self, x, y, sample_weight, class_weight, batch_size, check_steps, steps_name, steps, validation_split, shuffle, extract_tensors_from_dataset)\u001b[0m\n\u001b[1;32m   2416\u001b[0m     \u001b[0;31m# First, we build the model on the fly if necessary.\u001b[0m\u001b[0;34m\u001b[0m\u001b[0;34m\u001b[0m\u001b[0;34m\u001b[0m\u001b[0m\n\u001b[1;32m   2417\u001b[0m     \u001b[0;32mif\u001b[0m \u001b[0;32mnot\u001b[0m \u001b[0mself\u001b[0m\u001b[0;34m.\u001b[0m\u001b[0minputs\u001b[0m\u001b[0;34m:\u001b[0m\u001b[0;34m\u001b[0m\u001b[0;34m\u001b[0m\u001b[0m\n\u001b[0;32m-> 2418\u001b[0;31m       \u001b[0mall_inputs\u001b[0m\u001b[0;34m,\u001b[0m \u001b[0my_input\u001b[0m\u001b[0;34m,\u001b[0m \u001b[0mdict_inputs\u001b[0m \u001b[0;34m=\u001b[0m \u001b[0mself\u001b[0m\u001b[0;34m.\u001b[0m\u001b[0m_build_model_with_inputs\u001b[0m\u001b[0;34m(\u001b[0m\u001b[0mx\u001b[0m\u001b[0;34m,\u001b[0m \u001b[0my\u001b[0m\u001b[0;34m)\u001b[0m\u001b[0;34m\u001b[0m\u001b[0;34m\u001b[0m\u001b[0m\n\u001b[0m\u001b[1;32m   2419\u001b[0m       \u001b[0mis_build_called\u001b[0m \u001b[0;34m=\u001b[0m \u001b[0;32mTrue\u001b[0m\u001b[0;34m\u001b[0m\u001b[0;34m\u001b[0m\u001b[0m\n\u001b[1;32m   2420\u001b[0m     \u001b[0;32melse\u001b[0m\u001b[0;34m:\u001b[0m\u001b[0;34m\u001b[0m\u001b[0;34m\u001b[0m\u001b[0m\n",
      "\u001b[0;32m~/anaconda3/lib/python3.7/site-packages/tensorflow_core/python/keras/engine/training.py\u001b[0m in \u001b[0;36m_build_model_with_inputs\u001b[0;34m(self, inputs, targets)\u001b[0m\n\u001b[1;32m   2579\u001b[0m     \u001b[0;31m# or lists of arrays, and extract a flat list of inputs from the passed\u001b[0m\u001b[0;34m\u001b[0m\u001b[0;34m\u001b[0m\u001b[0;34m\u001b[0m\u001b[0m\n\u001b[1;32m   2580\u001b[0m     \u001b[0;31m# structure.\u001b[0m\u001b[0;34m\u001b[0m\u001b[0;34m\u001b[0m\u001b[0;34m\u001b[0m\u001b[0m\n\u001b[0;32m-> 2581\u001b[0;31m     \u001b[0mtraining_utils\u001b[0m\u001b[0;34m.\u001b[0m\u001b[0mvalidate_input_types\u001b[0m\u001b[0;34m(\u001b[0m\u001b[0minputs\u001b[0m\u001b[0;34m,\u001b[0m \u001b[0morig_inputs\u001b[0m\u001b[0;34m)\u001b[0m\u001b[0;34m\u001b[0m\u001b[0;34m\u001b[0m\u001b[0m\n\u001b[0m\u001b[1;32m   2582\u001b[0m \u001b[0;34m\u001b[0m\u001b[0m\n\u001b[1;32m   2583\u001b[0m     \u001b[0;32mif\u001b[0m \u001b[0misinstance\u001b[0m\u001b[0;34m(\u001b[0m\u001b[0minputs\u001b[0m\u001b[0;34m,\u001b[0m \u001b[0;34m(\u001b[0m\u001b[0mlist\u001b[0m\u001b[0;34m,\u001b[0m \u001b[0mtuple\u001b[0m\u001b[0;34m)\u001b[0m\u001b[0;34m)\u001b[0m\u001b[0;34m:\u001b[0m\u001b[0;34m\u001b[0m\u001b[0;34m\u001b[0m\u001b[0m\n",
      "\u001b[0;32m~/anaconda3/lib/python3.7/site-packages/tensorflow_core/python/keras/engine/training_utils.py\u001b[0m in \u001b[0;36mvalidate_input_types\u001b[0;34m(inp, orig_inp, allow_dict, field_name)\u001b[0m\n\u001b[1;32m   1147\u001b[0m     raise ValueError(\n\u001b[1;32m   1148\u001b[0m         \u001b[0;34m'Please provide as model inputs either a single array or a list of '\u001b[0m\u001b[0;34m\u001b[0m\u001b[0;34m\u001b[0m\u001b[0m\n\u001b[0;32m-> 1149\u001b[0;31m         'arrays. You passed: {}={}'.format(field_name, orig_inp))\n\u001b[0m\u001b[1;32m   1150\u001b[0m \u001b[0;34m\u001b[0m\u001b[0m\n\u001b[1;32m   1151\u001b[0m \u001b[0;34m\u001b[0m\u001b[0m\n",
      "\u001b[0;31mValueError\u001b[0m: Please provide as model inputs either a single array or a list of arrays. You passed: inputs=           TL        TM        TR        ML        MM        MR        BL  \\\n71   0.000000  0.000000  0.000000  0.603023  0.603023  0.301511  0.301511   \n49   0.000000  0.000000  0.000000  0.235702  0.471405  0.471405  0.471405   \n492  0.603023  0.000000  0.000000  0.301511  0.603023  0.000000  0.301511   \n364  0.301511  0.000000  0.603023  0.603023  0.301511  0.301511  0.000000   \n784  0.353553  0.000000  0.353553  0.707107  0.353553  0.000000  0.000000   \n116  0.000000  0.301511  0.000000  0.000000  0.301511  0.301511  0.000000   \n293  0.000000  0.471405  0.471405  0.471405  0.000000  0.235702  0.471405   \n76   0.000000  0.000000  0.000000  0.471405  0.471405  0.471405  0.235702   \n48   0.000000  0.000000  0.000000  0.235702  0.471405  0.471405  0.471405   \n325  0.301511  0.000000  0.301511  0.000000  0.000000  0.301511  0.603023   \n263  0.000000  0.603023  0.301511  0.301511  0.000000  0.603023  0.000000   \n775  0.353553  0.000000  0.353553  0.000000  0.353553  0.000000  0.000000   \n718  0.000000  0.516398  0.258199  0.000000  0.000000  0.258199  0.516398   \n443  0.235702  0.471405  0.000000  0.235702  0.471405  0.000000  0.471405   \n64   0.000000  0.000000  0.000000  0.603023  0.301511  0.603023  0.301511   \n765  0.258199  0.000000  0.000000  0.258199  0.516398  0.516398  0.258199   \n52   0.000000  0.000000  0.000000  0.603023  0.000000  0.301511  0.603023   \n568  0.471405  0.235702  0.235702  0.000000  0.000000  0.000000  0.471405   \n124  0.000000  0.500000  0.000000  0.500000  0.000000  0.500000  0.000000   \n789  0.353553  0.000000  0.707107  0.000000  0.353553  0.353553  0.000000   \n832  0.353553  0.353553  0.353553  0.353553  0.000000  0.000000  0.000000   \n737  0.000000  0.516398  0.516398  0.258199  0.258199  0.258199  0.000000   \n912  0.516398  0.000000  0.516398  0.258199  0.258199  0.258199  0.516398   \n608  0.603023  0.603023  0.301511  0.000000  0.000000  0.000000  0.000000   \n118  0.000000  0.301511  0.000000  0.000000  0.603023  0.301511  0.000000   \n12   0.000000  0.000000  0.000000  0.500000  0.000000  0.500000  0.000000   \n157  0.000000  0.301511  0.301511  0.000000  0.000000  0.603023  0.603023   \n127  0.000000  0.301511  0.000000  0.301511  0.000000  0.301511  0.603023   \n733  0.000000  0.516398  0.258199  0.516398  0.516398  0.258199  0.000000   \n235  0.000000  0.603023  0.000000  0.301511  0.603023  0.000000  0.301511   \n..        ...       ...       ...       ...       ...       ...       ...   \n72   0.000000  0.000000  0.000000  0.471405  0.471405  0.235702  0.235702   \n845  0.258199  0.258199  0.258199  0.516398  0.516398  0.000000  0.000000   \n537  0.603023  0.301511  0.000000  0.301511  0.000000  0.000000  0.603023   \n677  0.000000  0.258199  0.000000  0.000000  0.258199  0.516398  0.516398   \n849  0.353553  0.353553  0.707107  0.353553  0.000000  0.000000  0.353553   \n941  0.516398  0.516398  0.258199  0.516398  0.258199  0.000000  0.258199   \n174  0.000000  0.301511  0.301511  0.301511  0.000000  0.603023  0.000000   \n87   0.000000  0.000000  0.500000  0.500000  0.000000  0.000000  0.500000   \n551  0.603023  0.301511  0.000000  0.603023  0.000000  0.000000  0.301511   \n486  0.603023  0.000000  0.000000  0.301511  0.000000  0.301511  0.301511   \n705  0.000000  0.707107  0.000000  0.000000  0.000000  0.353553  0.353553   \n314  0.301511  0.000000  0.000000  0.603023  0.000000  0.603023  0.301511   \n396  0.301511  0.301511  0.000000  0.603023  0.000000  0.301511  0.000000   \n600  0.471405  0.471405  0.000000  0.235702  0.471405  0.000000  0.235702   \n472  0.301511  0.603023  0.603023  0.000000  0.000000  0.000000  0.000000   \n70   0.000000  0.000000  0.000000  0.603023  0.603023  0.301511  0.301511   \n599  0.471405  0.471405  0.000000  0.235702  0.235702  0.000000  0.471405   \n804  0.353553  0.353553  0.000000  0.000000  0.353553  0.000000  0.000000   \n754  0.353553  0.000000  0.000000  0.353553  0.353553  0.000000  0.000000   \n277  0.000000  0.603023  0.603023  0.000000  0.301511  0.000000  0.000000   \n723  0.000000  0.516398  0.258199  0.000000  0.258199  0.516398  0.258199   \n9    0.000000  0.000000  0.000000  0.000000  0.603023  0.301511  0.301511   \n359  0.301511  0.000000  0.603023  0.603023  0.000000  0.301511  0.000000   \n707  0.000000  0.516398  0.000000  0.000000  0.516398  0.516398  0.258199   \n763  0.258199  0.000000  0.000000  0.258199  0.516398  0.000000  0.258199   \n835  0.353553  0.353553  0.353553  0.707107  0.000000  0.000000  0.000000   \n192  0.000000  0.301511  0.603023  0.000000  0.000000  0.301511  0.301511   \n629  0.000000  0.000000  0.353553  0.000000  0.353553  0.000000  0.353553   \n559  0.603023  0.301511  0.000000  0.603023  0.301511  0.301511  0.000000   \n684  0.000000  0.353553  0.000000  0.707107  0.000000  0.000000  0.353553   \n\n           BM        BR  \n71   0.301511  0.000000  \n49   0.471405  0.235702  \n492  0.301511  0.000000  \n364  0.000000  0.000000  \n784  0.000000  0.353553  \n116  0.603023  0.603023  \n293  0.235702  0.000000  \n76   0.471405  0.235702  \n48   0.235702  0.471405  \n325  0.000000  0.603023  \n263  0.301511  0.000000  \n775  0.707107  0.353553  \n718  0.516398  0.258199  \n443  0.471405  0.000000  \n64   0.000000  0.301511  \n765  0.000000  0.516398  \n52   0.301511  0.301511  \n568  0.471405  0.471405  \n124  0.500000  0.000000  \n789  0.000000  0.353553  \n832  0.000000  0.707107  \n737  0.516398  0.000000  \n912  0.000000  0.000000  \n608  0.301511  0.301511  \n118  0.301511  0.603023  \n12   0.500000  0.500000  \n157  0.301511  0.000000  \n127  0.603023  0.000000  \n733  0.000000  0.258199  \n235  0.301511  0.000000  \n..        ...       ...  \n72   0.471405  0.471405  \n845  0.516398  0.000000  \n537  0.301511  0.000000  \n677  0.258199  0.516398  \n849  0.000000  0.000000  \n941  0.000000  0.000000  \n174  0.603023  0.000000  \n87   0.500000  0.000000  \n551  0.301511  0.000000  \n486  0.000000  0.603023  \n705  0.353553  0.353553  \n314  0.000000  0.301511  \n396  0.000000  0.603023  \n600  0.471405  0.000000  \n472  0.301511  0.301511  \n70   0.000000  0.301511  \n599  0.471405  0.000000  \n804  0.707107  0.353553  \n754  0.707107  0.353553  \n277  0.301511  0.301511  \n723  0.000000  0.516398  \n9    0.301511  0.603023  \n359  0.000000  0.301511  \n707  0.258199  0.258199  \n763  0.516398  0.516398  \n835  0.000000  0.353553  \n192  0.603023  0.000000  \n629  0.353553  0.707107  \n559  0.000000  0.000000  \n684  0.353553  0.353553  \n\n[670 rows x 9 columns]"
     ]
    }
   ],
   "source": [
    "model.fit(train_X, train_y, epochs = 3) ####"
   ]
  },
  {
   "cell_type": "code",
   "execution_count": null,
   "metadata": {},
   "outputs": [],
   "source": []
  },
  {
   "cell_type": "code",
   "execution_count": null,
   "metadata": {},
   "outputs": [],
   "source": []
  },
  {
   "cell_type": "markdown",
   "metadata": {},
   "source": [
    "## Step 3: Make Predictions\n",
    "\n",
    "Now load your saved model and use it to make predictions on a few random rows in the test dataset. Check if the predictions are correct."
   ]
  },
  {
   "cell_type": "code",
   "execution_count": null,
   "metadata": {},
   "outputs": [],
   "source": [
    "# your code here\n",
    "model = tf.keras.models.Sequential()"
   ]
  },
  {
   "cell_type": "markdown",
   "metadata": {},
   "source": [
    "## Step 4: Improve Your Model\n",
    "\n",
    "Did your model achieve low loss (<0.1) and high accuracy (>0.95)? If not, try to improve your model.\n",
    "\n",
    "But how? There are so many things you can play with in Tensorflow and in the next challenge you'll learn about these things. But in this challenge, let's just do a few things to see if they will help.\n",
    "\n",
    "* Add more layers to your model. If the data are complex you need more layers. But don't use more layers than you need. If adding more layers does not improve the model performance you don't need additional layers.\n",
    "* Adjust the learning rate when you compile the model. This means you will create a custom `tf.keras.optimizers.Adam` instance where you specify the learning rate you want. Then pass the instance to `model.compile` as the optimizer.\n",
    "    * `tf.keras.optimizers.Adam` [reference](https://www.tensorflow.org/api_docs/python/tf/keras/optimizers/Adam).\n",
    "    * Don't worry if you don't understand what the learning rate does. You'll learn about it in the next challenge.\n",
    "* Adjust the number of epochs when you fit the training data to the model. Your model performance continues to improve as you train more epochs. But eventually it will reach the ceiling and the performance will stay the same."
   ]
  },
  {
   "cell_type": "code",
   "execution_count": null,
   "metadata": {},
   "outputs": [],
   "source": [
    "# your code here"
   ]
  },
  {
   "cell_type": "markdown",
   "metadata": {},
   "source": [
    "**Which approach(es) did you find helpful to improve your model performance?**"
   ]
  },
  {
   "cell_type": "code",
   "execution_count": null,
   "metadata": {},
   "outputs": [],
   "source": [
    "# your answer here"
   ]
  }
 ],
 "metadata": {
  "kernelspec": {
   "display_name": "Python 3",
   "language": "python",
   "name": "python3"
  },
  "language_info": {
   "codemirror_mode": {
    "name": "ipython",
    "version": 3
   },
   "file_extension": ".py",
   "mimetype": "text/x-python",
   "name": "python",
   "nbconvert_exporter": "python",
   "pygments_lexer": "ipython3",
   "version": "3.7.3"
  }
 },
 "nbformat": 4,
 "nbformat_minor": 2
}
